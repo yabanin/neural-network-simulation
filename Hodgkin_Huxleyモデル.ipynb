{
  "nbformat": 4,
  "nbformat_minor": 0,
  "metadata": {
    "colab": {
      "provenance": [],
      "authorship_tag": "ABX9TyPUYjshIzt9vWee6NS0aMkn"
    },
    "kernelspec": {
      "name": "python3",
      "display_name": "Python 3"
    },
    "language_info": {
      "name": "python"
    }
  },
  "cells": [
    {
      "cell_type": "markdown",
      "source": [
        "# ホジキン・ハクスレー(Hodgkin-Huxley)モデル\n",
        "ヤリイカの巨大軸索から電気生理記録によって解析を行い、Na$^+$イオンとK$^+$イオンの電流、とくに電位依存性コンダクタンスと呼ばれる仕組みが重要であることを示した\n",
        "\n",
        "Na+チャネル、K+チャネルの開閉を実験的に測定し、開閉の非線形な動態を微分方程式を含む数式で表した\n",
        "\n",
        "> $ C\\frac{dV}{dt}= -\\bar{g}_{leak}(V(t) - E_{leak}) - g_{Na}(V,t)(V(t) - E_{Na}) - g_{K}(V,t)(V(t) - E_{K}) $\n",
        "\n",
        "- $C$は膜のキャパシタンス [μF/cm$^2$]\n",
        "\n",
        "- $V(t)$は膜電位 [mV]\n",
        "\n",
        "- $\\bar{g}_{leak}$は定数、リークコンダクタンス[ mS/cm$^2$]\n",
        "\n",
        "- $E_{leak}$は主にCl$^-$イオンの反転電位 [mV]\n",
        "\n",
        "- $E_{Na}$は主にNa$^+$イオンの反転電位 [mV]\n",
        "\n"
      ],
      "metadata": {
        "id": "q9l1D7Vi8RQy"
      }
    },
    {
      "cell_type": "markdown",
      "source": [],
      "metadata": {
        "id": "fPyIDRIyyggC"
      }
    }
  ]
}